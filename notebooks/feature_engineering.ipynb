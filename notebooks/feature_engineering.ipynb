{
 "cells": [
  {
   "cell_type": "code",
   "execution_count": 3,
   "metadata": {},
   "outputs": [],
   "source": [
    "import h3\n",
    "import pandas as pd\n",
    "import matplotlib\n",
    "import folium\n",
    "\n",
    "from folium import Map, Marker, GeoJson\n",
    "from folium.plugins import MarkerCluster"
   ]
  },
  {
   "cell_type": "code",
   "execution_count": 2,
   "metadata": {},
   "outputs": [],
   "source": [
    "import branca.colormap as cm\n",
    "from geojson.feature import *\n",
    "import json"
   ]
  },
  {
   "cell_type": "code",
   "execution_count": 4,
   "metadata": {},
   "outputs": [],
   "source": [
    "import os\n",
    "import sys"
   ]
  },
  {
   "cell_type": "code",
   "execution_count": 51,
   "metadata": {},
   "outputs": [],
   "source": [
    "sys.path.append(os.path.abspath('data/yellow_tripdata_2016-04.csv'))"
   ]
  },
  {
   "cell_type": "code",
   "execution_count": 52,
   "metadata": {},
   "outputs": [],
   "source": [
    "columns = ['tpep_pickup_datetime'\n",
    "           , 'tpep_dropoff_datetime'\n",
    "           , 'trip_distance'\n",
    "           , 'pickup_longitude'\n",
    "           , 'pickup_latitude'\n",
    "           , 'dropoff_longitude'\n",
    "           , 'dropoff_latitude'\n",
    "           , 'fare_amount']"
   ]
  },
  {
   "cell_type": "code",
   "execution_count": 53,
   "metadata": {
    "scrolled": false
   },
   "outputs": [
    {
     "ename": "NameError",
     "evalue": "name 'fltrd_1' is not defined",
     "output_type": "error",
     "traceback": [
      "\u001b[1;31m---------------------------------------------------------------------------\u001b[0m",
      "\u001b[1;31mNameError\u001b[0m                                 Traceback (most recent call last)",
      "\u001b[1;32m<ipython-input-53-e36546bf5275>\u001b[0m in \u001b[0;36m<module>\u001b[1;34m\u001b[0m\n\u001b[0;32m      1\u001b[0m \u001b[1;32mdel\u001b[0m \u001b[0mdf\u001b[0m\u001b[1;33m\u001b[0m\u001b[1;33m\u001b[0m\u001b[0m\n\u001b[1;32m----> 2\u001b[1;33m \u001b[1;32mdel\u001b[0m \u001b[0mfltrd_1\u001b[0m\u001b[1;33m\u001b[0m\u001b[1;33m\u001b[0m\u001b[0m\n\u001b[0m",
      "\u001b[1;31mNameError\u001b[0m: name 'fltrd_1' is not defined"
     ]
    }
   ],
   "source": [
    "del df\n",
    "del fltrd_1"
   ]
  },
  {
   "cell_type": "code",
   "execution_count": 54,
   "metadata": {},
   "outputs": [],
   "source": [
    "df = pd.read_csv(os.path.abspath('../data/yellow_tripdata_2016-04.csv')\n",
    "                 , usecols=columns\n",
    "                 , parse_dates=['tpep_pickup_datetime', 'tpep_dropoff_datetime']\n",
    "                #, nrows=500\n",
    "                )"
   ]
  },
  {
   "cell_type": "code",
   "execution_count": 55,
   "metadata": {},
   "outputs": [],
   "source": [
    "def timestamp_converter(timestamps, interval=10):\n",
    "    '''\n",
    "    :param: timestamps specifies the (pandas) Series of timestamps to convert\n",
    "    :param: interval=10 means that timestamp is ceiled to 10 min interval (e.g. 00:03:59 -> 00:10:00)\n",
    "    \n",
    "    '''\n",
    "    ceiled = timestamps.dt.ceil(\"{}min\".format(interval))\n",
    "    return ceiled.apply(lambda x : int('%d%02d' % (x.hour, x.minute)))\n",
    "    #return ceiled #.apply(lambda x : int('%d%02d' % (x.hour, x.minute))/10)"
   ]
  },
  {
   "cell_type": "code",
   "execution_count": 56,
   "metadata": {},
   "outputs": [],
   "source": [
    "df['pickup_time'] = timestamp_converter(df['tpep_pickup_datetime'], interval=10)\n",
    "df['dropoff_time'] = timestamp_converter(df['tpep_dropoff_datetime'], interval=10)"
   ]
  },
  {
   "cell_type": "code",
   "execution_count": 57,
   "metadata": {},
   "outputs": [],
   "source": [
    "rng = pd.date_range('00:00:00', '23:59:59', freq=\"10min\")\n",
    "s = pd.DataFrame({'pickup_time':rng})\n",
    "s['pu_city_time'] = s.index\n",
    "s['pickup_time'] = s['pickup_time'].apply(lambda x : int('%d%02d' % (x.hour, x.minute)))\n",
    "\n",
    "t = pd.DataFrame({'dropoff_time':rng})       \n",
    "t['do_city_time'] = t.index\n",
    "t['dropoff_time'] = t['dropoff_time'].apply(lambda x : int('%d%02d' % (x.hour, x.minute)))\n",
    "        \n",
    "df = df.merge(s, on='pickup_time', how='left')\n",
    "df = df.merge(t, on='dropoff_time', how='left')\n",
    "#df"
   ]
  },
  {
   "cell_type": "code",
   "execution_count": 58,
   "metadata": {},
   "outputs": [],
   "source": [
    "lat_min = 40.731461\n",
    "lat_max = 40.782619\n",
    "lon_min = -74.008574\n",
    "lon_max = -73.950370"
   ]
  },
  {
   "cell_type": "code",
   "execution_count": 60,
   "metadata": {},
   "outputs": [
    {
     "data": {
      "text/plain": [
       "5466220"
      ]
     },
     "execution_count": 60,
     "metadata": {},
     "output_type": "execute_result"
    }
   ],
   "source": [
    "#del fltrd_1 \n",
    "\n",
    "fltrd_1 = df.loc[\n",
    "                (df.pickup_longitude >= lon_min)  & \\\n",
    "                (df.pickup_longitude <= lon_max)  & \\\n",
    "                (df.pickup_latitude >= lat_min)   & \\\n",
    "                (df.pickup_latitude <= lat_max)   & \\\n",
    "                (df.dropoff_longitude >= lon_min) & \\\n",
    "                (df.dropoff_longitude <= lon_max) & \\\n",
    "                (df.dropoff_latitude >= lat_min)  & \\\n",
    "                (df.dropoff_latitude <= lat_max)\n",
    "                ].copy()\n",
    "len(fltrd_1)"
   ]
  },
  {
   "cell_type": "code",
   "execution_count": 329,
   "metadata": {},
   "outputs": [
    {
     "data": {
      "text/html": [
       "<div>\n",
       "<style scoped>\n",
       "    .dataframe tbody tr th:only-of-type {\n",
       "        vertical-align: middle;\n",
       "    }\n",
       "\n",
       "    .dataframe tbody tr th {\n",
       "        vertical-align: top;\n",
       "    }\n",
       "\n",
       "    .dataframe thead th {\n",
       "        text-align: right;\n",
       "    }\n",
       "</style>\n",
       "<table border=\"1\" class=\"dataframe\">\n",
       "  <thead>\n",
       "    <tr style=\"text-align: right;\">\n",
       "      <th></th>\n",
       "      <th>tpep_pickup_datetime</th>\n",
       "      <th>tpep_dropoff_datetime</th>\n",
       "      <th>trip_distance</th>\n",
       "      <th>pickup_longitude</th>\n",
       "      <th>pickup_latitude</th>\n",
       "      <th>dropoff_longitude</th>\n",
       "      <th>dropoff_latitude</th>\n",
       "      <th>fare_amount</th>\n",
       "      <th>pickup_time</th>\n",
       "      <th>dropoff_time</th>\n",
       "      <th>pu_city_time</th>\n",
       "      <th>do_city_time</th>\n",
       "      <th>pick_hex_id</th>\n",
       "      <th>drop_hex_id</th>\n",
       "    </tr>\n",
       "  </thead>\n",
       "  <tbody>\n",
       "    <tr>\n",
       "      <th>0</th>\n",
       "      <td>2016-04-01 00:00:00</td>\n",
       "      <td>2016-04-01 00:01:59</td>\n",
       "      <td>0.50</td>\n",
       "      <td>-73.976883</td>\n",
       "      <td>40.758495</td>\n",
       "      <td>-73.977669</td>\n",
       "      <td>40.753902</td>\n",
       "      <td>3.5</td>\n",
       "      <td>0</td>\n",
       "      <td>10</td>\n",
       "      <td>0</td>\n",
       "      <td>1</td>\n",
       "      <td>892a100d60fffff</td>\n",
       "      <td>892a100d677ffff</td>\n",
       "    </tr>\n",
       "    <tr>\n",
       "      <th>1</th>\n",
       "      <td>2016-04-01 00:00:00</td>\n",
       "      <td>2016-04-01 00:12:07</td>\n",
       "      <td>2.20</td>\n",
       "      <td>-73.985207</td>\n",
       "      <td>40.757294</td>\n",
       "      <td>-73.989288</td>\n",
       "      <td>40.732658</td>\n",
       "      <td>10.0</td>\n",
       "      <td>0</td>\n",
       "      <td>20</td>\n",
       "      <td>0</td>\n",
       "      <td>2</td>\n",
       "      <td>892a100d67bffff</td>\n",
       "      <td>892a100d22bffff</td>\n",
       "    </tr>\n",
       "    <tr>\n",
       "      <th>2</th>\n",
       "      <td>2016-04-01 00:00:00</td>\n",
       "      <td>2016-04-01 00:10:41</td>\n",
       "      <td>0.96</td>\n",
       "      <td>-73.979202</td>\n",
       "      <td>40.758869</td>\n",
       "      <td>-73.990677</td>\n",
       "      <td>40.751320</td>\n",
       "      <td>8.5</td>\n",
       "      <td>0</td>\n",
       "      <td>20</td>\n",
       "      <td>0</td>\n",
       "      <td>2</td>\n",
       "      <td>892a100d673ffff</td>\n",
       "      <td>892a100d2dbffff</td>\n",
       "    </tr>\n",
       "    <tr>\n",
       "      <th>3</th>\n",
       "      <td>2016-04-01 00:00:00</td>\n",
       "      <td>2016-04-01 00:10:30</td>\n",
       "      <td>1.54</td>\n",
       "      <td>-73.984856</td>\n",
       "      <td>40.767723</td>\n",
       "      <td>-73.990829</td>\n",
       "      <td>40.751186</td>\n",
       "      <td>8.5</td>\n",
       "      <td>0</td>\n",
       "      <td>20</td>\n",
       "      <td>0</td>\n",
       "      <td>2</td>\n",
       "      <td>892a1008b27ffff</td>\n",
       "      <td>892a100d2c3ffff</td>\n",
       "    </tr>\n",
       "    <tr>\n",
       "      <th>7</th>\n",
       "      <td>2016-04-01 00:00:01</td>\n",
       "      <td>2016-04-01 00:03:46</td>\n",
       "      <td>0.60</td>\n",
       "      <td>-73.988899</td>\n",
       "      <td>40.745426</td>\n",
       "      <td>-73.991821</td>\n",
       "      <td>40.738445</td>\n",
       "      <td>4.5</td>\n",
       "      <td>10</td>\n",
       "      <td>10</td>\n",
       "      <td>1</td>\n",
       "      <td>1</td>\n",
       "      <td>892a100d21bffff</td>\n",
       "      <td>892a100d273ffff</td>\n",
       "    </tr>\n",
       "  </tbody>\n",
       "</table>\n",
       "</div>"
      ],
      "text/plain": [
       "  tpep_pickup_datetime tpep_dropoff_datetime  trip_distance  pickup_longitude  \\\n",
       "0  2016-04-01 00:00:00   2016-04-01 00:01:59           0.50        -73.976883   \n",
       "1  2016-04-01 00:00:00   2016-04-01 00:12:07           2.20        -73.985207   \n",
       "2  2016-04-01 00:00:00   2016-04-01 00:10:41           0.96        -73.979202   \n",
       "3  2016-04-01 00:00:00   2016-04-01 00:10:30           1.54        -73.984856   \n",
       "7  2016-04-01 00:00:01   2016-04-01 00:03:46           0.60        -73.988899   \n",
       "\n",
       "   pickup_latitude  dropoff_longitude  dropoff_latitude  fare_amount  \\\n",
       "0        40.758495         -73.977669         40.753902          3.5   \n",
       "1        40.757294         -73.989288         40.732658         10.0   \n",
       "2        40.758869         -73.990677         40.751320          8.5   \n",
       "3        40.767723         -73.990829         40.751186          8.5   \n",
       "7        40.745426         -73.991821         40.738445          4.5   \n",
       "\n",
       "   pickup_time  dropoff_time  pu_city_time  do_city_time      pick_hex_id  \\\n",
       "0            0            10             0             1  892a100d60fffff   \n",
       "1            0            20             0             2  892a100d67bffff   \n",
       "2            0            20             0             2  892a100d673ffff   \n",
       "3            0            20             0             2  892a1008b27ffff   \n",
       "7           10            10             1             1  892a100d21bffff   \n",
       "\n",
       "       drop_hex_id  \n",
       "0  892a100d677ffff  \n",
       "1  892a100d22bffff  \n",
       "2  892a100d2dbffff  \n",
       "3  892a100d2c3ffff  \n",
       "7  892a100d273ffff  "
      ]
     },
     "execution_count": 329,
     "metadata": {},
     "output_type": "execute_result"
    }
   ],
   "source": [
    "fltrd_1.head()"
   ]
  },
  {
   "cell_type": "code",
   "execution_count": 61,
   "metadata": {},
   "outputs": [],
   "source": [
    "import h3.api.numpy_int as h3_np\n",
    "fltrd_1[\"pick_hex_id\"] = fltrd_1.apply(lambda row: h3_np.geo_to_h3(row['pickup_latitude'], row['pickup_longitude'], 9), axis = 1)\n",
    "fltrd_1[\"drop_hex_id\"] = fltrd_1.apply(lambda row: h3_np.geo_to_h3(row['dropoff_latitude'], row['dropoff_longitude'], 9), axis = 1)"
   ]
  },
  {
   "cell_type": "code",
   "execution_count": 63,
   "metadata": {},
   "outputs": [],
   "source": [
    "fltrd_1[\"h3_distance\"] = fltrd_1.apply(lambda row: h3_np.h3_distance(row['pick_hex_id'], row['drop_hex_id']), axis=1)"
   ]
  },
  {
   "cell_type": "code",
   "execution_count": 80,
   "metadata": {},
   "outputs": [
    {
     "name": "stdout",
     "output_type": "stream",
     "text": [
      "columns: ['tpep_pickup_datetime' 'tpep_dropoff_datetime' 'trip_distance'\n",
      " 'pickup_longitude' 'pickup_latitude' 'dropoff_longitude'\n",
      " 'dropoff_latitude' 'fare_amount' 'duration' 'pick_hex_id' 'drop_hex_id'\n",
      " 'pick_geometry' 'drop_geometry'],\n",
      " length: 4390 rows, \n",
      " nr. cells 388\n"
     ]
    }
   ],
   "source": [
    "print('columns: {},\\n length: {} rows, \\n nr. cells {}'.format(fltrd_1.columns.values, len(fltrd_1), len(fltrd_1.pick_hex_id.unique())))"
   ]
  },
  {
   "cell_type": "code",
   "execution_count": 64,
   "metadata": {},
   "outputs": [],
   "source": [
    "fltrd_1.to_csv(os.path.abspath('../data/prep_data_2016-04.csv'))"
   ]
  },
  {
   "cell_type": "code",
   "execution_count": 65,
   "metadata": {},
   "outputs": [],
   "source": [
    "del df\n",
    "del fltrd_1"
   ]
  },
  {
   "cell_type": "code",
   "execution_count": 342,
   "metadata": {},
   "outputs": [
    {
     "data": {
      "text/html": [
       "<div>\n",
       "<style scoped>\n",
       "    .dataframe tbody tr th:only-of-type {\n",
       "        vertical-align: middle;\n",
       "    }\n",
       "\n",
       "    .dataframe tbody tr th {\n",
       "        vertical-align: top;\n",
       "    }\n",
       "\n",
       "    .dataframe thead th {\n",
       "        text-align: right;\n",
       "    }\n",
       "</style>\n",
       "<table border=\"1\" class=\"dataframe\">\n",
       "  <thead>\n",
       "    <tr style=\"text-align: right;\">\n",
       "      <th></th>\n",
       "      <th>pickup_time</th>\n",
       "      <th>pick_hex_id</th>\n",
       "    </tr>\n",
       "  </thead>\n",
       "  <tbody>\n",
       "    <tr>\n",
       "      <th>0</th>\n",
       "      <td>0</td>\n",
       "      <td>892a100d60fffff</td>\n",
       "    </tr>\n",
       "    <tr>\n",
       "      <th>1</th>\n",
       "      <td>0</td>\n",
       "      <td>892a100d67bffff</td>\n",
       "    </tr>\n",
       "    <tr>\n",
       "      <th>2</th>\n",
       "      <td>0</td>\n",
       "      <td>892a100d673ffff</td>\n",
       "    </tr>\n",
       "    <tr>\n",
       "      <th>3</th>\n",
       "      <td>0</td>\n",
       "      <td>892a1008b27ffff</td>\n",
       "    </tr>\n",
       "    <tr>\n",
       "      <th>4</th>\n",
       "      <td>10</td>\n",
       "      <td>892a100d21bffff</td>\n",
       "    </tr>\n",
       "  </tbody>\n",
       "</table>\n",
       "</div>"
      ],
      "text/plain": [
       "   pickup_time      pick_hex_id\n",
       "0            0  892a100d60fffff\n",
       "1            0  892a100d67bffff\n",
       "2            0  892a100d673ffff\n",
       "3            0  892a1008b27ffff\n",
       "4           10  892a100d21bffff"
      ]
     },
     "execution_count": 342,
     "metadata": {},
     "output_type": "execute_result"
    }
   ],
   "source": [
    "fltrd_1 = pd.read_csv(os.path.abspath('../data/prep_data_2016-04.csv')\n",
    "                      , usecols=['pickup_time', 'pick_hex_id']\n",
    "                      , nrows=500\n",
    ")\n",
    "                    \n",
    "fltrd_1.head()"
   ]
  },
  {
   "cell_type": "code",
   "execution_count": 343,
   "metadata": {},
   "outputs": [],
   "source": [
    "fltrd_1[\"pick_geometry\"] =  fltrd_1.pick_hex_id.apply(lambda x: \n",
    "                                                           {    \"type\" : \"Polygon\",\n",
    "                                                                 \"coordinates\": \n",
    "                                                                [h3.h3_to_geo_boundary(h=x,geo_json=True)]\n",
    "                                                            }\n",
    "                                                        )"
   ]
  },
  {
   "cell_type": "code",
   "execution_count": 74,
   "metadata": {},
   "outputs": [],
   "source": [
    "fltrd_1[\"drop_geometry\"] =  fltrd_1.drop_hex_id.apply(lambda x: \n",
    "                                                           {    \"type\" : \"Polygon\",\n",
    "                                                                 \"coordinates\": \n",
    "                                                                [h3.h3_to_geo_boundary(h=x,geo_json=True)]\n",
    "                                                            }\n",
    "                                                        )"
   ]
  },
  {
   "cell_type": "code",
   "execution_count": 344,
   "metadata": {},
   "outputs": [],
   "source": [
    "def counts_by_hexagon(df, columns=None, resolution=12):\n",
    "    \"\"\"\n",
    "    Use h3.geo_to_h3 to index each data point into the spatial index of the specified resolution.\n",
    "    Use h3.h3_to_geo_boundary to obtain the geometries of these hexagons\n",
    "    \n",
    "    Ex counts_by_hexagon(data, 9)\n",
    "    \n",
    "    resotlution (default 9)\n",
    "    \"\"\"\n",
    "#    if columns:\n",
    "#        df = df[columns]     \n",
    "#    else:\n",
    "#        df = df[[\"lat\",\"lng\"]]\n",
    "#    \n",
    "#    df[\"hex_id\"] = df.apply(lambda row: h3.geo_to_h3(row[df.columns[0]], row[df.columns[1]], resolution), axis = 1)\n",
    "    \n",
    "    df_aggreg = df.groupby(by = \"pick_hex_id\").size().reset_index()\n",
    "    df_aggreg.columns = [\"pick_hex_id\", \"value\"]\n",
    "    \n",
    "    df_aggreg[\"geometry\"] =  df_aggreg.pick_hex_id.apply(lambda x: \n",
    "                                                           {    \"type\" : \"Polygon\",\n",
    "                                                                 \"coordinates\": \n",
    "                                                                [h3.h3_to_geo_boundary(h=x,geo_json=True)]\n",
    "                                                            }\n",
    "                                                        )\n",
    "    \n",
    "    return df_aggreg"
   ]
  },
  {
   "cell_type": "code",
   "execution_count": 345,
   "metadata": {},
   "outputs": [],
   "source": [
    "def choropleth_map(df_aggreg, border_color = 'black', fill_opacity = 0.7, initial_map = None, with_legend = False,\n",
    "                   kind = \"linear\"):\n",
    "    \n",
    "    \"\"\"\n",
    "    Creates choropleth maps given the aggregated data.\n",
    "    \"\"\"    \n",
    "    #colormap\n",
    "    min_value = df_aggreg[\"value\"].min()\n",
    "    max_value = df_aggreg[\"value\"].max()\n",
    "    m = round ((min_value + max_value ) / 2 , 0)\n",
    "\n",
    "    #take resolution from the first row\n",
    "    res = h3.h3_get_resolution(df_aggreg.loc[0,'pick_hex_id'])\n",
    "    \n",
    "    if initial_map is None:\n",
    "        initial_map = Map(location= [40.718728, -73.943802], zoom_start=12, tiles=\"cartodbpositron\", \n",
    "                attr= '© <a href=\"http://www.openstreetmap.org/copyright\">OpenStreetMap</a> contributors © <a href=\"http://cartodb.com/attributions#basemaps\">CartoDB</a>' \n",
    "            )\n",
    "        \n",
    "\n",
    "    #the colormap \n",
    "    #color names accepted https://github.com/python-visualization/branca/blob/master/branca/_cnames.json\n",
    "    if kind == \"linear\":\n",
    "        custom_cm = cm.LinearColormap(['green','yellow','red'], vmin=min_value, vmax=max_value)\n",
    "    elif kind == \"outlier\":\n",
    "        #for outliers, values would be -11,0,1\n",
    "        custom_cm = cm.LinearColormap(['blue','white','red'], vmin=min_value, vmax=max_value)\n",
    "    elif kind == \"filled_nulls\":\n",
    "        custom_cm = cm.LinearColormap(['sienna','green','yellow','red'], \n",
    "                                      index=[0,min_value,m,max_value],vmin=min_value,vmax=max_value)\n",
    "   \n",
    "\n",
    "    #create geojson data from dataframe\n",
    "    geojson_data = hexagons_dataframe_to_geojson(df_hex = df_aggreg)\n",
    "    \n",
    "    #plot on map\n",
    "    name_layer = \"Choropleth \" + str(res)\n",
    "    if kind != \"linear\":\n",
    "        name_layer = name_layer + kind\n",
    "        \n",
    "    GeoJson(\n",
    "        geojson_data,\n",
    "        style_function=lambda feature: {\n",
    "            'fillColor': custom_cm(feature['properties']['value']),\n",
    "            'color': border_color,\n",
    "            'weight': 1,\n",
    "            'fillOpacity': fill_opacity \n",
    "        }, \n",
    "        name = name_layer\n",
    "    ).add_to(initial_map)\n",
    "    #add legend (not recommended if multiple layers)\n",
    "    if with_legend == True:\n",
    "        custom_cm.add_to(initial_map)\n",
    "    \n",
    "    \n",
    "    \n",
    "    return initial_map"
   ]
  },
  {
   "cell_type": "code",
   "execution_count": 347,
   "metadata": {},
   "outputs": [],
   "source": [
    "def hexagons_dataframe_to_geojson(df_hex, file_output = None):\n",
    "    \"\"\"\n",
    "    Produce the GeoJSON for a dataframe that has a geometry column in geojson \n",
    "    format already, along with the columns hex_id and value\n",
    "    \n",
    "    Ex counts_by_hexagon(data)\n",
    "    \"\"\"    \n",
    "    list_features = []\n",
    "    \n",
    "    for i,row in df_hex.iterrows():\n",
    "        feature = Feature(geometry = row[\"geometry\"] , id=row[\"pick_hex_id\"], properties = {\"value\" : row[\"value\"]})\n",
    "        list_features.append(feature)\n",
    "        \n",
    "    feat_collection = FeatureCollection(list_features)\n",
    "    \n",
    "    geojson_result = json.dumps(feat_collection)\n",
    "        #optionally write to file\n",
    "    if file_output is not None:\n",
    "        with open(file_output,\"w\") as f:\n",
    "            json.dump(feat_collection,f)\n",
    "    \n",
    "    return geojson_result"
   ]
  },
  {
   "cell_type": "code",
   "execution_count": 348,
   "metadata": {},
   "outputs": [
    {
     "data": {
      "text/html": [
       "<div style=\"width:100%;\"><div style=\"position:relative;width:100%;height:0;padding-bottom:60%;\"><span style=\"color:#565656\">Make this Notebook Trusted to load map: File -> Trust Notebook</span><iframe src=\"about:blank\" style=\"position:absolute;width:100%;height:100%;left:0;top:0;border:none !important;\" data-html=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 onload=\"this.contentDocument.open();this.contentDocument.write(atob(this.getAttribute('data-html')));this.contentDocument.close();\" allowfullscreen webkitallowfullscreen mozallowfullscreen></iframe></div></div>"
      ],
      "text/plain": [
       "<folium.folium.Map at 0x16009c7fa30>"
      ]
     },
     "execution_count": 348,
     "metadata": {},
     "output_type": "execute_result"
    }
   ],
   "source": [
    "df_aggreg = counts_by_hexagon(df=fltrd_1, columns=['pickup_latitude', 'pickup_longitude'], resolution=1)\n",
    "df_aggreg.sort_values(by=\"value\", ascending=False, inplace=True)\n",
    "hexmap = choropleth_map(df_aggreg=df_aggreg, with_legend=True)\n",
    "hexmap.save('hexmap.html')\n",
    "hexmap"
   ]
  },
  {
   "cell_type": "code",
   "execution_count": 61,
   "metadata": {},
   "outputs": [
    {
     "data": {
      "text/plain": [
       "11934338"
      ]
     },
     "execution_count": 61,
     "metadata": {},
     "output_type": "execute_result"
    }
   ],
   "source": [
    "len(df)"
   ]
  },
  {
   "cell_type": "code",
   "execution_count": 60,
   "metadata": {},
   "outputs": [
    {
     "data": {
      "text/plain": [
       "-74.03138732910156"
      ]
     },
     "execution_count": 60,
     "metadata": {},
     "output_type": "execute_result"
    }
   ],
   "source": [
    "fltrd_1.pickup_longitude.min()"
   ]
  },
  {
   "cell_type": "code",
   "execution_count": null,
   "metadata": {},
   "outputs": [],
   "source": [
    "fltrd_2 = df[(df.tpep_pickup_datetime != df.tpep_dropoff_datetime)]"
   ]
  },
  {
   "cell_type": "code",
   "execution_count": 52,
   "metadata": {},
   "outputs": [
    {
     "data": {
      "text/html": [
       "<div>\n",
       "<style scoped>\n",
       "    .dataframe tbody tr th:only-of-type {\n",
       "        vertical-align: middle;\n",
       "    }\n",
       "\n",
       "    .dataframe tbody tr th {\n",
       "        vertical-align: top;\n",
       "    }\n",
       "\n",
       "    .dataframe thead th {\n",
       "        text-align: right;\n",
       "    }\n",
       "</style>\n",
       "<table border=\"1\" class=\"dataframe\">\n",
       "  <thead>\n",
       "    <tr style=\"text-align: right;\">\n",
       "      <th></th>\n",
       "      <th>VendorID</th>\n",
       "      <th>tpep_pickup_datetime</th>\n",
       "      <th>tpep_dropoff_datetime</th>\n",
       "      <th>passenger_count</th>\n",
       "      <th>trip_distance</th>\n",
       "      <th>pickup_longitude</th>\n",
       "      <th>pickup_latitude</th>\n",
       "      <th>RatecodeID</th>\n",
       "      <th>store_and_fwd_flag</th>\n",
       "      <th>dropoff_longitude</th>\n",
       "      <th>dropoff_latitude</th>\n",
       "      <th>payment_type</th>\n",
       "      <th>fare_amount</th>\n",
       "      <th>extra</th>\n",
       "      <th>mta_tax</th>\n",
       "      <th>tip_amount</th>\n",
       "      <th>tolls_amount</th>\n",
       "      <th>improvement_surcharge</th>\n",
       "      <th>total_amount</th>\n",
       "    </tr>\n",
       "  </thead>\n",
       "  <tbody>\n",
       "  </tbody>\n",
       "</table>\n",
       "</div>"
      ],
      "text/plain": [
       "Empty DataFrame\n",
       "Columns: [VendorID, tpep_pickup_datetime, tpep_dropoff_datetime, passenger_count, trip_distance, pickup_longitude, pickup_latitude, RatecodeID, store_and_fwd_flag, dropoff_longitude, dropoff_latitude, payment_type, fare_amount, extra, mta_tax, tip_amount, tolls_amount, improvement_surcharge, total_amount]\n",
       "Index: []"
      ]
     },
     "execution_count": 52,
     "metadata": {},
     "output_type": "execute_result"
    }
   ],
   "source": [
    "fltrd_df = df.query(query)\n",
    "fltrd_df.head()"
   ]
  },
  {
   "cell_type": "code",
   "execution_count": 35,
   "metadata": {},
   "outputs": [
    {
     "name": "stdout",
     "output_type": "stream",
     "text": [
      "2016-04-01 00:00:00\n",
      "2016-04-01 00:00:00\n"
     ]
    }
   ],
   "source": [
    "print(df['tpep_pickup_datetime'][4])\n",
    "print(df['tpep_dropoff_datetime'][4])"
   ]
  },
  {
   "cell_type": "code",
   "execution_count": 16,
   "metadata": {},
   "outputs": [
    {
     "data": {
      "text/plain": [
       "Index(['tpep_pickup_datetime', 'tpep_dropoff_datetime', 'trip_distance',\n",
       "       'pickup_longitude', 'pickup_latitude', 'dropoff_longitude',\n",
       "       'dropoff_latitude', 'fare_amount'],\n",
       "      dtype='object')"
      ]
     },
     "execution_count": 16,
     "metadata": {},
     "output_type": "execute_result"
    }
   ],
   "source": [
    "df.columns"
   ]
  },
  {
   "cell_type": "code",
   "execution_count": 25,
   "metadata": {},
   "outputs": [
    {
     "data": {
      "text/plain": [
       "tpep_pickup_datetime     datetime64[ns]\n",
       "tpep_dropoff_datetime    datetime64[ns]\n",
       "trip_distance                   float64\n",
       "pickup_longitude                float64\n",
       "pickup_latitude                 float64\n",
       "dropoff_longitude               float64\n",
       "dropoff_latitude                float64\n",
       "fare_amount                     float64\n",
       "dtype: object"
      ]
     },
     "execution_count": 25,
     "metadata": {},
     "output_type": "execute_result"
    }
   ],
   "source": [
    "df.dtypes"
   ]
  },
  {
   "cell_type": "code",
   "execution_count": 20,
   "metadata": {},
   "outputs": [
    {
     "data": {
      "text/plain": [
       "tpep_pickup_datetime             object\n",
       "tpep_dropoff_datetime            object\n",
       "trip_distance                   float64\n",
       "pickup_longitude                float64\n",
       "pickup_latitude                 float64\n",
       "dropoff_longitude               float64\n",
       "dropoff_latitude                float64\n",
       "fare_amount                     float64\n",
       "pickup_datetime          datetime64[ns]\n",
       "dropoff_datetime         datetime64[ns]\n",
       "dtype: object"
      ]
     },
     "execution_count": 20,
     "metadata": {},
     "output_type": "execute_result"
    }
   ],
   "source": [
    "df['pickup_datetime'] = pd.to_datetime(df['tpep_pickup_datetime'])\n",
    "df['dropoff_datetime'] = pd.to_datetime(df['tpep_dropoff_datetime'])\n",
    "df.drop(columns=['tpep_pickup_datetime', 'tpep_dropoff_datetime'])\n",
    "df.dtypes"
   ]
  },
  {
   "cell_type": "code",
   "execution_count": 21,
   "metadata": {},
   "outputs": [
    {
     "data": {
      "text/plain": [
       "Index(['tpep_pickup_datetime', 'tpep_dropoff_datetime', 'trip_distance',\n",
       "       'pickup_longitude', 'pickup_latitude', 'dropoff_longitude',\n",
       "       'dropoff_latitude', 'fare_amount', 'pickup_datetime',\n",
       "       'dropoff_datetime'],\n",
       "      dtype='object')"
      ]
     },
     "execution_count": 21,
     "metadata": {},
     "output_type": "execute_result"
    }
   ],
   "source": [
    "df.columns"
   ]
  },
  {
   "cell_type": "code",
   "execution_count": 17,
   "metadata": {},
   "outputs": [
    {
     "ename": "NameError",
     "evalue": "name 'df' is not defined",
     "output_type": "error",
     "traceback": [
      "\u001b[1;31m---------------------------------------------------------------------------\u001b[0m",
      "\u001b[1;31mNameError\u001b[0m                                 Traceback (most recent call last)",
      "\u001b[1;32m<ipython-input-17-ad3474fd6620>\u001b[0m in \u001b[0;36m<module>\u001b[1;34m\u001b[0m\n\u001b[1;32m----> 1\u001b[1;33m \u001b[1;32mdel\u001b[0m \u001b[0mdf\u001b[0m\u001b[1;33m,\u001b[0m \u001b[0mfltrd_2\u001b[0m\u001b[1;33m\u001b[0m\u001b[1;33m\u001b[0m\u001b[0m\n\u001b[0m",
      "\u001b[1;31mNameError\u001b[0m: name 'df' is not defined"
     ]
    }
   ],
   "source": [
    "del df, fltrd_2"
   ]
  },
  {
   "cell_type": "code",
   "execution_count": 332,
   "metadata": {},
   "outputs": [
    {
     "data": {
      "text/html": [
       "<div>\n",
       "<style scoped>\n",
       "    .dataframe tbody tr th:only-of-type {\n",
       "        vertical-align: middle;\n",
       "    }\n",
       "\n",
       "    .dataframe tbody tr th {\n",
       "        vertical-align: top;\n",
       "    }\n",
       "\n",
       "    .dataframe thead th {\n",
       "        text-align: right;\n",
       "    }\n",
       "</style>\n",
       "<table border=\"1\" class=\"dataframe\">\n",
       "  <thead>\n",
       "    <tr style=\"text-align: right;\">\n",
       "      <th></th>\n",
       "      <th>tpep_pickup_datetime</th>\n",
       "      <th>tpep_dropoff_datetime</th>\n",
       "      <th>trip_distance</th>\n",
       "      <th>pickup_longitude</th>\n",
       "      <th>pickup_latitude</th>\n",
       "      <th>dropoff_longitude</th>\n",
       "      <th>dropoff_latitude</th>\n",
       "      <th>fare_amount</th>\n",
       "      <th>pickup_time</th>\n",
       "      <th>dropoff_time</th>\n",
       "      <th>pu_city_time</th>\n",
       "      <th>do_city_time</th>\n",
       "      <th>pick_hex_id</th>\n",
       "      <th>drop_hex_id</th>\n",
       "      <th>h3_distance</th>\n",
       "    </tr>\n",
       "  </thead>\n",
       "  <tbody>\n",
       "    <tr>\n",
       "      <th>0</th>\n",
       "      <td>2016-04-01 00:00:00</td>\n",
       "      <td>2016-04-01 00:01:59</td>\n",
       "      <td>0.50</td>\n",
       "      <td>-73.976883</td>\n",
       "      <td>40.758495</td>\n",
       "      <td>-73.977669</td>\n",
       "      <td>40.753902</td>\n",
       "      <td>3.5</td>\n",
       "      <td>0</td>\n",
       "      <td>10</td>\n",
       "      <td>0</td>\n",
       "      <td>1</td>\n",
       "      <td>892a100d60fffff</td>\n",
       "      <td>892a100d677ffff</td>\n",
       "      <td>1</td>\n",
       "    </tr>\n",
       "    <tr>\n",
       "      <th>1</th>\n",
       "      <td>2016-04-01 00:00:00</td>\n",
       "      <td>2016-04-01 00:12:07</td>\n",
       "      <td>2.20</td>\n",
       "      <td>-73.985207</td>\n",
       "      <td>40.757294</td>\n",
       "      <td>-73.989288</td>\n",
       "      <td>40.732658</td>\n",
       "      <td>10.0</td>\n",
       "      <td>0</td>\n",
       "      <td>20</td>\n",
       "      <td>0</td>\n",
       "      <td>2</td>\n",
       "      <td>892a100d67bffff</td>\n",
       "      <td>892a100d22bffff</td>\n",
       "      <td>9</td>\n",
       "    </tr>\n",
       "    <tr>\n",
       "      <th>2</th>\n",
       "      <td>2016-04-01 00:00:00</td>\n",
       "      <td>2016-04-01 00:10:41</td>\n",
       "      <td>0.96</td>\n",
       "      <td>-73.979202</td>\n",
       "      <td>40.758869</td>\n",
       "      <td>-73.990677</td>\n",
       "      <td>40.751320</td>\n",
       "      <td>8.5</td>\n",
       "      <td>0</td>\n",
       "      <td>20</td>\n",
       "      <td>0</td>\n",
       "      <td>2</td>\n",
       "      <td>892a100d673ffff</td>\n",
       "      <td>892a100d2dbffff</td>\n",
       "      <td>4</td>\n",
       "    </tr>\n",
       "    <tr>\n",
       "      <th>3</th>\n",
       "      <td>2016-04-01 00:00:00</td>\n",
       "      <td>2016-04-01 00:10:30</td>\n",
       "      <td>1.54</td>\n",
       "      <td>-73.984856</td>\n",
       "      <td>40.767723</td>\n",
       "      <td>-73.990829</td>\n",
       "      <td>40.751186</td>\n",
       "      <td>8.5</td>\n",
       "      <td>0</td>\n",
       "      <td>20</td>\n",
       "      <td>0</td>\n",
       "      <td>2</td>\n",
       "      <td>892a1008b27ffff</td>\n",
       "      <td>892a100d2c3ffff</td>\n",
       "      <td>7</td>\n",
       "    </tr>\n",
       "    <tr>\n",
       "      <th>7</th>\n",
       "      <td>2016-04-01 00:00:01</td>\n",
       "      <td>2016-04-01 00:03:46</td>\n",
       "      <td>0.60</td>\n",
       "      <td>-73.988899</td>\n",
       "      <td>40.745426</td>\n",
       "      <td>-73.991821</td>\n",
       "      <td>40.738445</td>\n",
       "      <td>4.5</td>\n",
       "      <td>10</td>\n",
       "      <td>10</td>\n",
       "      <td>1</td>\n",
       "      <td>1</td>\n",
       "      <td>892a100d21bffff</td>\n",
       "      <td>892a100d273ffff</td>\n",
       "      <td>2</td>\n",
       "    </tr>\n",
       "  </tbody>\n",
       "</table>\n",
       "</div>"
      ],
      "text/plain": [
       "  tpep_pickup_datetime tpep_dropoff_datetime  trip_distance  pickup_longitude  \\\n",
       "0  2016-04-01 00:00:00   2016-04-01 00:01:59           0.50        -73.976883   \n",
       "1  2016-04-01 00:00:00   2016-04-01 00:12:07           2.20        -73.985207   \n",
       "2  2016-04-01 00:00:00   2016-04-01 00:10:41           0.96        -73.979202   \n",
       "3  2016-04-01 00:00:00   2016-04-01 00:10:30           1.54        -73.984856   \n",
       "7  2016-04-01 00:00:01   2016-04-01 00:03:46           0.60        -73.988899   \n",
       "\n",
       "   pickup_latitude  dropoff_longitude  dropoff_latitude  fare_amount  \\\n",
       "0        40.758495         -73.977669         40.753902          3.5   \n",
       "1        40.757294         -73.989288         40.732658         10.0   \n",
       "2        40.758869         -73.990677         40.751320          8.5   \n",
       "3        40.767723         -73.990829         40.751186          8.5   \n",
       "7        40.745426         -73.991821         40.738445          4.5   \n",
       "\n",
       "   pickup_time  dropoff_time  pu_city_time  do_city_time      pick_hex_id  \\\n",
       "0            0            10             0             1  892a100d60fffff   \n",
       "1            0            20             0             2  892a100d67bffff   \n",
       "2            0            20             0             2  892a100d673ffff   \n",
       "3            0            20             0             2  892a1008b27ffff   \n",
       "7           10            10             1             1  892a100d21bffff   \n",
       "\n",
       "       drop_hex_id  h3_distance  \n",
       "0  892a100d677ffff            1  \n",
       "1  892a100d22bffff            9  \n",
       "2  892a100d2dbffff            4  \n",
       "3  892a100d2c3ffff            7  \n",
       "7  892a100d273ffff            2  "
      ]
     },
     "execution_count": 332,
     "metadata": {},
     "output_type": "execute_result"
    }
   ],
   "source": [
    "fltrd_1.head()"
   ]
  },
  {
   "cell_type": "code",
   "execution_count": 66,
   "metadata": {},
   "outputs": [],
   "source": [
    "columns = [ 'pick_hex_id'\n",
    "          , 'drop_hex_id'\n",
    "          , 'pu_city_time'\n",
    "          , 'do_city_time'\n",
    "          , 'h3_distance'\n",
    "          , 'fare_amount']"
   ]
  },
  {
   "cell_type": "code",
   "execution_count": 67,
   "metadata": {},
   "outputs": [],
   "source": [
    "df = pd.read_csv(os.path.abspath('../data/prep_data_2016-04.csv')\n",
    "                 , usecols=columns\n",
    "                #, nrows=500\n",
    "                )[columns]"
   ]
  },
  {
   "cell_type": "code",
   "execution_count": 68,
   "metadata": {},
   "outputs": [
    {
     "data": {
      "text/html": [
       "<div>\n",
       "<style scoped>\n",
       "    .dataframe tbody tr th:only-of-type {\n",
       "        vertical-align: middle;\n",
       "    }\n",
       "\n",
       "    .dataframe tbody tr th {\n",
       "        vertical-align: top;\n",
       "    }\n",
       "\n",
       "    .dataframe thead th {\n",
       "        text-align: right;\n",
       "    }\n",
       "</style>\n",
       "<table border=\"1\" class=\"dataframe\">\n",
       "  <thead>\n",
       "    <tr style=\"text-align: right;\">\n",
       "      <th></th>\n",
       "      <th>pick_hex_id</th>\n",
       "      <th>drop_hex_id</th>\n",
       "      <th>pu_city_time</th>\n",
       "      <th>do_city_time</th>\n",
       "      <th>h3_distance</th>\n",
       "      <th>fare_amount</th>\n",
       "    </tr>\n",
       "  </thead>\n",
       "  <tbody>\n",
       "    <tr>\n",
       "      <th>0</th>\n",
       "      <td>617733123866623999</td>\n",
       "      <td>617733123873439743</td>\n",
       "      <td>0</td>\n",
       "      <td>1</td>\n",
       "      <td>1</td>\n",
       "      <td>3.5</td>\n",
       "    </tr>\n",
       "    <tr>\n",
       "      <th>1</th>\n",
       "      <td>617733123873701887</td>\n",
       "      <td>617733123801350143</td>\n",
       "      <td>0</td>\n",
       "      <td>2</td>\n",
       "      <td>9</td>\n",
       "      <td>10.0</td>\n",
       "    </tr>\n",
       "    <tr>\n",
       "      <th>2</th>\n",
       "      <td>617733123873177599</td>\n",
       "      <td>617733123812884479</td>\n",
       "      <td>0</td>\n",
       "      <td>2</td>\n",
       "      <td>4</td>\n",
       "      <td>8.5</td>\n",
       "    </tr>\n",
       "    <tr>\n",
       "      <th>3</th>\n",
       "      <td>617733122609905663</td>\n",
       "      <td>617733123811311615</td>\n",
       "      <td>0</td>\n",
       "      <td>2</td>\n",
       "      <td>7</td>\n",
       "      <td>8.5</td>\n",
       "    </tr>\n",
       "    <tr>\n",
       "      <th>7</th>\n",
       "      <td>617733123868459007</td>\n",
       "      <td>617733122576351231</td>\n",
       "      <td>1</td>\n",
       "      <td>2</td>\n",
       "      <td>8</td>\n",
       "      <td>10.0</td>\n",
       "    </tr>\n",
       "  </tbody>\n",
       "</table>\n",
       "</div>"
      ],
      "text/plain": [
       "          pick_hex_id         drop_hex_id  pu_city_time  do_city_time  \\\n",
       "0  617733123866623999  617733123873439743             0             1   \n",
       "1  617733123873701887  617733123801350143             0             2   \n",
       "2  617733123873177599  617733123812884479             0             2   \n",
       "3  617733122609905663  617733123811311615             0             2   \n",
       "7  617733123868459007  617733122576351231             1             2   \n",
       "\n",
       "   h3_distance  fare_amount  \n",
       "0            1          3.5  \n",
       "1            9         10.0  \n",
       "2            4          8.5  \n",
       "3            7          8.5  \n",
       "7            8         10.0  "
      ]
     },
     "execution_count": 68,
     "metadata": {},
     "output_type": "execute_result"
    }
   ],
   "source": [
    "fltrd_2 = df.loc[\n",
    "                (df.do_city_time > df.pu_city_time) & \\\n",
    "                (df.pick_hex_id != df.drop_hex_id) & \\\n",
    "                (df.fare_amount >= 1.0)\n",
    "                #(df.dropoff_latitude <= lat_max)  & \\\n",
    "                ].copy()\n",
    "fltrd_2.head()"
   ]
  },
  {
   "cell_type": "code",
   "execution_count": 69,
   "metadata": {},
   "outputs": [
    {
     "data": {
      "text/plain": [
       "4186355"
      ]
     },
     "execution_count": 69,
     "metadata": {},
     "output_type": "execute_result"
    }
   ],
   "source": [
    "len(fltrd_2)"
   ]
  },
  {
   "cell_type": "code",
   "execution_count": 70,
   "metadata": {},
   "outputs": [
    {
     "data": {
      "text/plain": [
       "pick_hex_id       int64\n",
       "drop_hex_id       int64\n",
       "pu_city_time      int64\n",
       "do_city_time      int64\n",
       "h3_distance       int64\n",
       "fare_amount     float64\n",
       "dtype: object"
      ]
     },
     "execution_count": 70,
     "metadata": {},
     "output_type": "execute_result"
    }
   ],
   "source": [
    "fltrd_2.dtypes"
   ]
  },
  {
   "cell_type": "code",
   "execution_count": 71,
   "metadata": {},
   "outputs": [
    {
     "data": {
      "text/html": [
       "<div>\n",
       "<style scoped>\n",
       "    .dataframe tbody tr th:only-of-type {\n",
       "        vertical-align: middle;\n",
       "    }\n",
       "\n",
       "    .dataframe tbody tr th {\n",
       "        vertical-align: top;\n",
       "    }\n",
       "\n",
       "    .dataframe thead th {\n",
       "        text-align: right;\n",
       "    }\n",
       "</style>\n",
       "<table border=\"1\" class=\"dataframe\">\n",
       "  <thead>\n",
       "    <tr style=\"text-align: right;\">\n",
       "      <th></th>\n",
       "      <th>pick_hex_id</th>\n",
       "      <th>drop_hex_id</th>\n",
       "      <th>pu_city_time</th>\n",
       "      <th>do_city_time</th>\n",
       "      <th>h3_distance</th>\n",
       "      <th>fare_amount</th>\n",
       "    </tr>\n",
       "  </thead>\n",
       "  <tbody>\n",
       "    <tr>\n",
       "      <th>count</th>\n",
       "      <td>4.186355e+06</td>\n",
       "      <td>4.186355e+06</td>\n",
       "      <td>4.186355e+06</td>\n",
       "      <td>4.186355e+06</td>\n",
       "      <td>4.186355e+06</td>\n",
       "      <td>4.186355e+06</td>\n",
       "    </tr>\n",
       "    <tr>\n",
       "      <th>mean</th>\n",
       "      <td>6.177331e+17</td>\n",
       "      <td>6.177331e+17</td>\n",
       "      <td>8.623864e+01</td>\n",
       "      <td>8.759761e+01</td>\n",
       "      <td>6.113356e+00</td>\n",
       "      <td>9.638284e+00</td>\n",
       "    </tr>\n",
       "    <tr>\n",
       "      <th>std</th>\n",
       "      <td>9.349250e+09</td>\n",
       "      <td>9.596211e+09</td>\n",
       "      <td>3.447567e+01</td>\n",
       "      <td>3.448817e+01</td>\n",
       "      <td>3.206620e+00</td>\n",
       "      <td>3.915534e+00</td>\n",
       "    </tr>\n",
       "    <tr>\n",
       "      <th>min</th>\n",
       "      <td>6.177331e+17</td>\n",
       "      <td>6.177331e+17</td>\n",
       "      <td>0.000000e+00</td>\n",
       "      <td>1.000000e+00</td>\n",
       "      <td>1.000000e+00</td>\n",
       "      <td>1.000000e+00</td>\n",
       "    </tr>\n",
       "    <tr>\n",
       "      <th>25%</th>\n",
       "      <td>6.177331e+17</td>\n",
       "      <td>6.177331e+17</td>\n",
       "      <td>6.200000e+01</td>\n",
       "      <td>6.300000e+01</td>\n",
       "      <td>4.000000e+00</td>\n",
       "      <td>7.000000e+00</td>\n",
       "    </tr>\n",
       "    <tr>\n",
       "      <th>50%</th>\n",
       "      <td>6.177331e+17</td>\n",
       "      <td>6.177331e+17</td>\n",
       "      <td>8.800000e+01</td>\n",
       "      <td>9.000000e+01</td>\n",
       "      <td>5.000000e+00</td>\n",
       "      <td>9.000000e+00</td>\n",
       "    </tr>\n",
       "    <tr>\n",
       "      <th>75%</th>\n",
       "      <td>6.177331e+17</td>\n",
       "      <td>6.177331e+17</td>\n",
       "      <td>1.150000e+02</td>\n",
       "      <td>1.160000e+02</td>\n",
       "      <td>8.000000e+00</td>\n",
       "      <td>1.150000e+01</td>\n",
       "    </tr>\n",
       "    <tr>\n",
       "      <th>max</th>\n",
       "      <td>6.177332e+17</td>\n",
       "      <td>6.177332e+17</td>\n",
       "      <td>1.420000e+02</td>\n",
       "      <td>1.430000e+02</td>\n",
       "      <td>2.300000e+01</td>\n",
       "      <td>1.411000e+03</td>\n",
       "    </tr>\n",
       "  </tbody>\n",
       "</table>\n",
       "</div>"
      ],
      "text/plain": [
       "        pick_hex_id   drop_hex_id  pu_city_time  do_city_time   h3_distance  \\\n",
       "count  4.186355e+06  4.186355e+06  4.186355e+06  4.186355e+06  4.186355e+06   \n",
       "mean   6.177331e+17  6.177331e+17  8.623864e+01  8.759761e+01  6.113356e+00   \n",
       "std    9.349250e+09  9.596211e+09  3.447567e+01  3.448817e+01  3.206620e+00   \n",
       "min    6.177331e+17  6.177331e+17  0.000000e+00  1.000000e+00  1.000000e+00   \n",
       "25%    6.177331e+17  6.177331e+17  6.200000e+01  6.300000e+01  4.000000e+00   \n",
       "50%    6.177331e+17  6.177331e+17  8.800000e+01  9.000000e+01  5.000000e+00   \n",
       "75%    6.177331e+17  6.177331e+17  1.150000e+02  1.160000e+02  8.000000e+00   \n",
       "max    6.177332e+17  6.177332e+17  1.420000e+02  1.430000e+02  2.300000e+01   \n",
       "\n",
       "        fare_amount  \n",
       "count  4.186355e+06  \n",
       "mean   9.638284e+00  \n",
       "std    3.915534e+00  \n",
       "min    1.000000e+00  \n",
       "25%    7.000000e+00  \n",
       "50%    9.000000e+00  \n",
       "75%    1.150000e+01  \n",
       "max    1.411000e+03  "
      ]
     },
     "execution_count": 71,
     "metadata": {},
     "output_type": "execute_result"
    }
   ],
   "source": [
    "fltrd_2.describe()"
   ]
  },
  {
   "cell_type": "code",
   "execution_count": 72,
   "metadata": {
    "scrolled": false
   },
   "outputs": [
    {
     "data": {
      "text/plain": [
       "pick_hex_id         pu_city_time\n",
       "617733122573991935  0                20\n",
       "                    1                20\n",
       "                    2                13\n",
       "                    3                 5\n",
       "                    4                 9\n",
       "                                   ... \n",
       "617733151092637695  138             210\n",
       "                    139             206\n",
       "                    140             188\n",
       "                    141             162\n",
       "                    142             143\n",
       "Length: 29560, dtype: int64"
      ]
     },
     "execution_count": 72,
     "metadata": {},
     "output_type": "execute_result"
    }
   ],
   "source": [
    "fltrd_3 = fltrd_2[['pick_hex_id', 'pu_city_time']]\n",
    "grpd = fltrd_3.groupby(['pick_hex_id', 'pu_city_time'])\n",
    "grpd.size()"
   ]
  },
  {
   "cell_type": "code",
   "execution_count": 75,
   "metadata": {},
   "outputs": [
    {
     "data": {
      "text/plain": [
       "array([[6.17733124e+17, 6.17733124e+17, 0.00000000e+00, 1.00000000e+00,\n",
       "        1.00000000e+00, 3.50000000e+00],\n",
       "       [6.17733124e+17, 6.17733124e+17, 0.00000000e+00, 2.00000000e+00,\n",
       "        9.00000000e+00, 1.00000000e+01],\n",
       "       [6.17733124e+17, 6.17733124e+17, 0.00000000e+00, 2.00000000e+00,\n",
       "        4.00000000e+00, 8.50000000e+00],\n",
       "       [6.17733123e+17, 6.17733124e+17, 0.00000000e+00, 2.00000000e+00,\n",
       "        7.00000000e+00, 8.50000000e+00],\n",
       "       [6.17733124e+17, 6.17733123e+17, 1.00000000e+00, 2.00000000e+00,\n",
       "        8.00000000e+00, 1.00000000e+01]])"
      ]
     },
     "execution_count": 75,
     "metadata": {},
     "output_type": "execute_result"
    }
   ],
   "source": [
    "arr = fltrd_2.to_numpy()\n",
    "arr"
   ]
  },
  {
   "cell_type": "code",
   "execution_count": 77,
   "metadata": {},
   "outputs": [],
   "source": [
    "import numpy as np\n",
    "np.save(os.path.abspath('../data/prep_data.npy'), arr)"
   ]
  },
  {
   "cell_type": "code",
   "execution_count": 78,
   "metadata": {
    "scrolled": true
   },
   "outputs": [
    {
     "data": {
      "text/plain": [
       "array([[6.17733124e+17, 6.17733124e+17, 0.00000000e+00, 1.00000000e+00,\n",
       "        1.00000000e+00, 3.50000000e+00],\n",
       "       [6.17733124e+17, 6.17733124e+17, 0.00000000e+00, 2.00000000e+00,\n",
       "        9.00000000e+00, 1.00000000e+01],\n",
       "       [6.17733124e+17, 6.17733124e+17, 0.00000000e+00, 2.00000000e+00,\n",
       "        4.00000000e+00, 8.50000000e+00],\n",
       "       ...,\n",
       "       [6.17733151e+17, 6.17733124e+17, 1.15000000e+02, 1.16000000e+02,\n",
       "        1.00000000e+00, 5.00000000e+00],\n",
       "       [6.17733124e+17, 6.17733124e+17, 1.15000000e+02, 1.16000000e+02,\n",
       "        4.00000000e+00, 7.50000000e+00],\n",
       "       [6.17733151e+17, 6.17733123e+17, 1.15000000e+02, 1.17000000e+02,\n",
       "        1.30000000e+01, 1.30000000e+01]])"
      ]
     },
     "execution_count": 78,
     "metadata": {},
     "output_type": "execute_result"
    }
   ],
   "source": [
    "brr = np.load(os.path.abspath('../data/prep_data.npy'))"
   ]
  },
  {
   "cell_type": "code",
   "execution_count": 82,
   "metadata": {},
   "outputs": [
    {
     "data": {
      "text/plain": [
       "4186355"
      ]
     },
     "execution_count": 82,
     "metadata": {},
     "output_type": "execute_result"
    }
   ],
   "source": [
    "len(brr)"
   ]
  },
  {
   "cell_type": "code",
   "execution_count": 129,
   "metadata": {},
   "outputs": [
    {
     "name": "stdout",
     "output_type": "stream",
     "text": [
      "[6.17733123e+17 6.17733124e+17 8.80000000e+01 9.00000000e+01\n",
      " 1.00000000e+01 1.20000000e+01]\n",
      "[6.17733123e+17 6.17733123e+17 8.80000000e+01 8.90000000e+01\n",
      " 3.00000000e+00 7.50000000e+00]\n",
      "[6.17733123e+17 6.17733151e+17 8.80000000e+01 9.10000000e+01\n",
      " 1.20000000e+01 1.60000000e+01]\n"
     ]
    }
   ],
   "source": [
    "for x in range(500):\n",
    "    if brr[x,0] == 617733122573991935:\n",
    "        print(brr[x,:])\n",
    "#brr[0,0]"
   ]
  },
  {
   "cell_type": "code",
   "execution_count": null,
   "metadata": {},
   "outputs": [],
   "source": [
    "import random\n",
    "nrr = random.sample(brr)"
   ]
  },
  {
   "cell_type": "code",
   "execution_count": 436,
   "metadata": {},
   "outputs": [
    {
     "data": {
      "text/plain": [
       "array([6.17733123e+17, 6.17733124e+17, 4.00000000e+01, 4.10000000e+01,\n",
       "       8.00000000e+00, 9.00000000e+00])"
      ]
     },
     "execution_count": 436,
     "metadata": {},
     "output_type": "execute_result"
    }
   ],
   "source": [
    "brr[1400674,:]"
   ]
  },
  {
   "cell_type": "code",
   "execution_count": 433,
   "metadata": {},
   "outputs": [
    {
     "data": {
      "text/plain": [
       "617733124000000000"
      ]
     },
     "execution_count": 433,
     "metadata": {},
     "output_type": "execute_result"
    }
   ],
   "source": [
    "int(6.17733124e+17)"
   ]
  }
 ],
 "metadata": {
  "kernelspec": {
   "display_name": "Python 3",
   "language": "python",
   "name": "python3"
  },
  "language_info": {
   "codemirror_mode": {
    "name": "ipython",
    "version": 3
   },
   "file_extension": ".py",
   "mimetype": "text/x-python",
   "name": "python",
   "nbconvert_exporter": "python",
   "pygments_lexer": "ipython3",
   "version": "3.8.0"
  }
 },
 "nbformat": 4,
 "nbformat_minor": 4
}
